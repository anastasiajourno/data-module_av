{
 "cells": [
  {
   "cell_type": "markdown",
   "metadata": {},
   "source": [
    "# 04 - More BeautifulSoup practice\n",
    "Using the soverign states Wikipedia page, you're going to identify different parts of the unconventionally "
   ]
  },
  {
   "cell_type": "markdown",
   "metadata": {},
   "source": [
    "## 1. Select all the rows of the first table on the page"
   ]
  },
  {
   "cell_type": "code",
   "execution_count": 2,
   "metadata": {},
   "outputs": [],
   "source": [
    "import pandas as pd\n",
    "from bs4 import BeautifulSoup\n",
    "import requests\n",
    "\n",
    "pd.set_option('display.max_rows', 255)"
   ]
  },
  {
   "cell_type": "code",
   "execution_count": 3,
   "metadata": {},
   "outputs": [],
   "source": [
    "# soverign states wikipedia url\n",
    "states_url = 'https://en.wikipedia.org/wiki/List_of_sovereign_states'"
   ]
  },
  {
   "cell_type": "code",
   "execution_count": 4,
   "metadata": {},
   "outputs": [],
   "source": [
    "# request the page using GET request\n",
    "response=requests.get(states_url)"
   ]
  },
  {
   "cell_type": "code",
   "execution_count": 5,
   "metadata": {},
   "outputs": [],
   "source": [
    "# create a beautifulsoup object\n",
    "soup = BeautifulSoup(response.content, 'html.parser')"
   ]
  },
  {
   "cell_type": "code",
   "execution_count": 8,
   "metadata": {},
   "outputs": [],
   "source": [
    "# select the first table\n",
    "table = soup.find('table')"
   ]
  },
  {
   "cell_type": "code",
   "execution_count": 9,
   "metadata": {},
   "outputs": [],
   "source": [
    "# select all the rows\n",
    "trs = table.find_all('tr')"
   ]
  },
  {
   "cell_type": "markdown",
   "metadata": {},
   "source": [
    "## 2. Extract text only from all td tags\n",
    "You'll do this to identify where to separate the two tables"
   ]
  },
  {
   "cell_type": "code",
   "execution_count": 10,
   "metadata": {},
   "outputs": [
    {
     "data": {
      "text/plain": [
       "['\\nCommon and formal names\\n\\nMembership within the UN System[a]\\n\\nSovereignty dispute[b]\\n\\nFurther information on status and recognition of sovereignty[d]\\n',\n",
       " '\\nA AAA\\n\\nA AAA\\n\\nA AAA\\n\\n\\n',\n",
       " '\\nZZZ↓ UN member states and observer states ↓\\n\\nA AAA\\n\\nZZZ\\n\\n\\n',\n",
       " '\\nZZZAbkhazia → See Abkhazia listing\\n',\n",
       " '\\n\\xa0Afghanistan\\xa0– Islamic Republic of Afghanistan\\n\\nA UN member state\\n\\nA None\\n\\n\\n',\n",
       " '\\n\\xa0Albania\\xa0– Republic of Albania\\n\\nA UN member state\\n\\nA None\\n\\n\\n',\n",
       " \"\\n\\xa0Algeria\\xa0– People's Democratic Republic of Algeria\\n\\nA UN member state\\n\\nA None\\n\\n\\n\",\n",
       " '\\n\\xa0Andorra\\xa0– Principality of Andorra\\n\\nA UN member state\\n\\nA None\\n\\nAndorra is a co-principality in which the office of head of state is jointly held ex officio by the French president and the bishop of the Roman Catholic diocese of Urgell,[2] who himself is appointed with approval from the Holy See.\\n',\n",
       " '\\n\\xa0Angola\\xa0– Republic of Angola\\n\\nA UN member state\\n\\nA None\\n\\n\\n',\n",
       " '\\n\\xa0Antigua and Barbuda\\n\\nA UN member state\\n\\nA None\\n\\nAntigua and Barbuda is a Commonwealth realm[e] with one autonomous region, Barbuda.[f]\\n',\n",
       " '\\n\\xa0Argentina\\xa0– Argentine Republic[g]\\n\\nA UN member state\\n\\nA None\\n\\nArgentina is a federation of 23 provinces and one autonomous city.[h]\\n',\n",
       " '\\n\\xa0Armenia\\xa0– Republic of Armenia\\n\\nA UN member state\\n\\nNot recognised by Pakistan.\\n\\nArmenia is not recognised by Pakistan due to the dispute over Artsakh.[5][6][7]\\n',\n",
       " '\\nZZZArtsakh → See Artsakh listing\\n',\n",
       " '\\n\\xa0Australia\\xa0– Commonwealth of Australia\\n\\nA UN member state\\n\\nA None\\n\\nAustralia is a Commonwealth realm[e] and a federation of both states and territories. There are six states, three internal territories, six external territories and one claimed Antarctic external territory. The external territories of Australia are:\\n\\xa0Ashmore and Cartier Islands\\n\\xa0Christmas Island\\n\\xa0Cocos (Keeling) Islands\\n\\xa0Coral Sea Islands Territory\\n\\xa0Heard Island and McDonald Islands\\n\\xa0Norfolk Island\\n\\xa0Australian Antarctic Territory\\n',\n",
       " '\\n\\xa0Austria\\xa0– Republic of Austria\\n\\nA UN member state\\n\\nA None\\n\\nMember of the European Union.[c] Austria is a federation of nine states.\\n',\n",
       " '\\n\\xa0Azerbaijan\\xa0– Republic of Azerbaijan\\n\\nA UN member state\\n\\nA None\\n\\nAzerbaijan contains one autonomous region, Nakhchivan [f] The de facto state of Artsakh has been established in the southwest of Azerbaijan.\\n',\n",
       " '\\n\\xa0Bahamas, The\\xa0– Commonwealth of The Bahamas[9]\\n\\nA UN member state\\n\\nA None\\n\\nThe Bahamas is a Commonwealth realm.[e]\\n',\n",
       " '\\n\\xa0Bahrain\\xa0– Kingdom of Bahrain\\n\\nA UN member state\\n\\nA None\\n\\n\\n',\n",
       " \"\\n\\xa0Bangladesh\\xa0– People's Republic of Bangladesh\\n\\nA UN member state\\n\\nA None\\n\\n\\n\",\n",
       " '\\n\\xa0Barbados\\n\\nA UN member state\\n\\nA None\\n\\nBarbados is a Commonwealth realm.[e]\\n',\n",
       " '\\n\\xa0Belarus\\xa0– Republic of Belarus\\n\\nA UN member state\\n\\nA None\\n\\n\\n',\n",
       " '\\n\\xa0Belgium\\xa0– Kingdom of Belgium\\n\\nA UN member state\\n\\nA None\\n\\nMember of the EU.[c] Belgium is a federation of three linguistic communities and three regions.\\n',\n",
       " '\\n\\xa0Belize\\n\\nA UN member state\\n\\nA None\\n\\nBelize is a Commonwealth realm.[e]\\n',\n",
       " '\\n\\xa0Benin\\xa0– Republic of Benin\\n\\nA UN member state\\n\\nA None\\n\\n\\n',\n",
       " '\\n\\xa0Bhutan\\xa0– Kingdom of Bhutan\\n\\nA UN member state\\n\\nA None\\n\\n\\n',\n",
       " '\\n\\xa0Bolivia\\xa0– Plurinational State of Bolivia\\n\\nA UN member state\\n\\nA None\\n\\n\\n',\n",
       " '\\n\\xa0Bosnia and Herzegovina\\n\\nA UN member state\\n\\nA None\\n\\nBosnia and Herzegovina has two constituent entities:\\n\\xa0Federation of Bosnia and Herzegovina\\n\\xa0Republika Srpska\\nand Brčko District, a self-governing administrative district.[10]\\n\\n',\n",
       " '\\n\\xa0Botswana\\xa0– Republic of Botswana\\n\\nA UN member state\\n\\nA None\\n\\n\\n',\n",
       " '\\n\\xa0Brazil\\xa0– Federative Republic of Brazil\\n\\nA UN member state\\n\\nA None\\n\\nBrazil is a federation of 26 states and one federal district.\\n',\n",
       " '\\n\\xa0Brunei\\xa0– Nation of Brunei, the Abode of Peace\\n\\nA UN member state\\n\\nA None\\n\\n\\n',\n",
       " '\\n\\xa0Bulgaria\\xa0– Republic of Bulgaria\\n\\nA UN member state\\n\\nA None\\n\\nMember of the EU.[c]\\n',\n",
       " '\\n\\xa0Burkina Faso\\n\\nA UN member state\\n\\nA None\\n\\n\\n',\n",
       " '\\nZZZBurma → See Myanmar listing\\n',\n",
       " '\\n\\xa0Burundi\\xa0– Republic of Burundi\\n\\nA UN member state\\n\\nA None\\n\\n\\n',\n",
       " '\\n\\xa0Cambodia\\xa0– Kingdom of Cambodia\\n\\nA UN member state\\n\\nA None\\n\\n\\n',\n",
       " '\\n\\xa0Cameroon\\xa0– Republic of Cameroon\\n\\nA UN member state\\n\\nA None\\n\\n\\n',\n",
       " '\\n\\xa0Canada[i]\\n\\nA UN member state\\n\\nA None\\n\\nCanada is a Commonwealth realm[e] and a federation of 10 provinces and three territories.\\n',\n",
       " '\\n\\xa0Cape Verde\\xa0– Republic of Cabo Verde[j]\\n\\nA UN member state\\n\\nA None\\n\\n\\n',\n",
       " '\\n\\xa0Central African Republic\\n\\nA UN member state\\n\\nA None\\n\\n\\n',\n",
       " '\\n\\xa0Chad\\xa0– Republic of Chad\\n\\nA UN member state\\n\\nA None\\n\\n\\n',\n",
       " '\\n\\xa0Chile\\xa0– Republic of Chile\\n\\nA UN member state\\n\\nA None\\n\\n[k]\\n',\n",
       " \"\\n\\xa0China\\xa0– People's Republic of China[l]\\n\\nA UN member state\\n\\nPartially unrecognised. B Claimed by Georgia Claimed by North Korea Claimed by Serbia Claimed by Somalia Claimed by the People's Republic of China Claimed by the Republic of China Claimed by South Korea Claimed by Azerbaijan Claimed by the Republic of Cyprus Disputed by Israel Claimed by Mauritius Claimed by Morocco Claimed by Moldova Claimed by Mali Claimed by Spain Claimed by Argentina\\n\\nChina contains five autonomous regions, Guangxi, Inner Mongolia, Ningxia, Tibet, and Xinjiang.[f] Additionally, it has sovereignty over the Special Administrative Regions of:\\n\\xa0Hong Kong\\n\\xa0Macau\\nChina claims, but does not control Taiwan, which is governed by a rival administration (the Republic of China) that claims all of China as its territory.[m]\\nChina is not recognised by 15 UN member states and Vatican City, which, with the exception of Bhutan, all recognise Taiwan instead.[n]\\n\\n\",\n",
       " '\\nZZZChina, Republic of → See Taiwan listing\\n',\n",
       " '\\n\\xa0Colombia\\xa0– Republic of Colombia\\n\\nA UN member state\\n\\nA None\\n\\n\\n',\n",
       " '\\n\\xa0Comoros\\xa0– Union of the Comoros\\n\\nA UN member state\\n\\nA None\\n\\nComoros is a federation of three islands.[o]\\n',\n",
       " '\\n\\xa0Congo, Democratic Republic of the[p]\\n\\nA UN member state\\n\\nA None\\n\\n\\n',\n",
       " '\\n\\xa0Congo, Republic of the[q]\\n\\nA UN member state\\n\\nA None\\n\\n\\n',\n",
       " '\\nZZZCook Islands → See Cook Islands listing\\n',\n",
       " '\\n\\xa0Costa Rica\\xa0– Republic of Costa Rica\\n\\nA UN member state\\n\\nA None\\n\\n\\n',\n",
       " \"\\nZZZCôte d'Ivoire → See Ivory Coast listing\\n\",\n",
       " '\\n\\xa0Croatia\\xa0– Republic of Croatia\\n\\nA UN member state\\n\\nA None\\n\\nMember of the EU.[c]\\n',\n",
       " '\\n\\xa0Cuba\\xa0– Republic of Cuba\\n\\nA UN member state\\n\\nA None\\n\\n\\n',\n",
       " '\\n\\xa0Cyprus\\xa0– Republic of Cyprus\\n\\nA UN member state\\n\\nNot recognised by Turkey[13]\\n\\nMember of the EU.[c] The northeastern part of the island is the de facto state of Northern Cyprus.\\nCyprus is not recognised by Turkey due to the Cyprus dispute, with Turkey recognising Northern Cyprus.\\n\\n',\n",
       " '\\n\\xa0Czech Republic[r]\\n\\nA UN member state\\n\\nA None\\n\\nMember of the EU.[c]\\n',\n",
       " \"\\nZZZDemocratic People's Republic of Korea → See Korea, North listing\\n\",\n",
       " '\\nZZZDemocratic Republic of the Congo → See Congo, Democratic Republic of the listing\\n',\n",
       " '\\n\\xa0Denmark\\xa0– Kingdom of Denmark\\n\\nA UN member state\\n\\nA None\\n\\nMember of the EU.[c] The Kingdom of Denmark includes 2 self-governing territories:\\n\\xa0Faroe Islands\\n\\xa0Greenland\\nThe continental territory of Denmark, the Faroe Islands, and Greenland form the three constituent countries of the Kingdom.[s] The Kingdom of Denmark as a whole is a member of the EU, but EU law does not apply to the Faroe Islands and Greenland.[14][15]\\n\\n',\n",
       " '\\n\\xa0Djibouti\\xa0– Republic of Djibouti\\n\\nA UN member state\\n\\nA None\\n\\n\\n',\n",
       " '\\n\\xa0Dominica\\xa0– Commonwealth of Dominica\\n\\nA UN member state\\n\\nA None\\n\\n\\n',\n",
       " '\\n\\xa0Dominican Republic\\n\\nA UN member state\\n\\nA None\\n\\n\\n',\n",
       " '\\n\\xa0East Timor\\xa0– Democratic Republic of Timor-Leste[t]\\n\\nA UN member state\\n\\nA None\\n\\n\\n',\n",
       " '\\n\\xa0Ecuador\\xa0– Republic of Ecuador\\n\\nA UN member state\\n\\nA None\\n\\n\\n',\n",
       " '\\n\\xa0Egypt\\xa0– Arab Republic of Egypt\\n\\nA UN member state\\n\\nA None\\n\\n\\n',\n",
       " '\\n\\xa0El Salvador\\xa0– Republic of El Salvador\\n\\nA UN member state\\n\\nA None\\n\\n\\n',\n",
       " '\\n\\xa0Equatorial Guinea\\xa0– Republic of Equatorial Guinea\\n\\nA UN member state\\n\\nA None\\n\\n\\n',\n",
       " '\\n\\xa0Eritrea\\xa0– State of Eritrea\\n\\nA UN member state\\n\\nA None\\n\\n\\n',\n",
       " '\\n\\xa0Estonia\\xa0– Republic of Estonia\\n\\nA UN member state\\n\\nA None\\n\\nMember of the EU.[c]\\n',\n",
       " '\\n\\xa0Eswatini\\xa0– Kingdom of Eswatini[u]\\n\\nA UN member state\\n\\nA None\\n\\n\\n',\n",
       " '\\n\\xa0Ethiopia\\xa0– Federal Democratic Republic of Ethiopia\\n\\nA UN member state\\n\\nA None\\n\\nEthiopia is a federation of nine regions and two chartered cities.\\n',\n",
       " '\\n\\xa0Fiji\\xa0– Republic of Fiji\\n\\nA UN member state\\n\\nA None\\n\\nFiji contains one autonomous region, Rotuma.[f][16][17]\\n',\n",
       " '\\n\\xa0Finland\\xa0– Republic of Finland\\n\\nA UN member state\\n\\nA None\\n\\nMember of the EU.[c]\\n\\xa0Åland is a neutral and demilitarised autonomous region of Finland.[f][v]\\n',\n",
       " '\\n\\xa0France\\xa0– French Republic\\n\\nA UN member state\\n\\nA None\\n\\nMember of the EU.[c] France contains five overseas regions/departments; French Guiana, Guadeloupe, Martinique, Mayotte, and Réunion. France also includes the overseas territories of:\\n\\xa0Clipperton Island\\n\\xa0French Polynesia\\n\\xa0New Caledonia\\n\\xa0Saint Barthélemy\\n\\xa0Saint Martin\\n\\xa0Saint Pierre and Miquelon\\n\\xa0Wallis and Futuna\\n\\xa0French Southern and Antarctic Lands[w]\\n',\n",
       " '\\n\\xa0Gabon\\xa0– Gabonese Republic\\n\\nA UN member state\\n\\nA None\\n\\n\\n',\n",
       " '\\n \\xa0Gambia, The\\xa0– Republic of The Gambia[18]\\n\\nA UN member state\\n\\nA None\\n\\n\\n',\n",
       " '\\n\\xa0Georgia\\n\\nA UN member state\\n\\nA None\\n\\nGeorgia contains two autonomous republics, Adjara and Abkhazia.[f] In Abkhazia and South Ossetia, de facto states have been formed.\\n',\n",
       " '\\n\\xa0Germany\\xa0– Federal Republic of Germany\\n\\nA UN member state\\n\\nA None\\n\\nMember of the EU.[c] Germany is a federation of 16 states.\\n',\n",
       " '\\n\\xa0Ghana\\xa0– Republic of Ghana\\n\\nA UN member state\\n\\nA None\\n\\n\\n',\n",
       " '\\n\\xa0Greece\\xa0– Hellenic Republic\\n\\nA UN member state\\n\\nA None\\n\\nMember of the EU.[c] Greece contains one autonomous area, Mount Athos.[19]\\n',\n",
       " '\\n\\xa0Grenada\\n\\nA UN member state\\n\\nA None\\n\\nGrenada is a Commonwealth realm.[e]\\n',\n",
       " '\\n\\xa0Guatemala\\xa0– Republic of Guatemala\\n\\nA UN member state\\n\\nA None\\n\\n\\n',\n",
       " '\\n\\xa0Guinea\\xa0– Republic of Guinea[x]\\n\\nA UN member state\\n\\nA None\\n\\n\\n',\n",
       " '\\n\\xa0Guinea-Bissau\\xa0– Republic of Guinea-Bissau\\n\\nA UN member state\\n\\nA None\\n\\n\\n',\n",
       " '\\n\\xa0Guyana\\xa0– Co-operative Republic of Guyana\\n\\nA UN member state\\n\\nA None\\n\\n\\n',\n",
       " '\\n\\xa0Haiti\\xa0– Republic of Haiti\\n\\nA UN member state\\n\\nA None\\n\\n\\n',\n",
       " '\\nZZZHoly See → See Vatican City listing\\n',\n",
       " '\\n\\xa0Honduras\\xa0– Republic of Honduras\\n\\nA UN member state\\n\\nA None\\n\\n\\n',\n",
       " '\\n\\xa0Hungary\\n\\nA UN member state\\n\\nA None\\n\\nMember of the EU.[c]\\n',\n",
       " '\\n\\xa0Iceland[y]\\n\\nA UN member state\\n\\nA None\\n\\n\\n',\n",
       " '\\n\\xa0India\\xa0– Republic of India\\n\\nA UN member state\\n\\nA None\\n\\nIndia is a federation of 28 states and eight union territories.\\n',\n",
       " '\\n\\xa0Indonesia\\xa0– Republic of Indonesia\\n\\nA UN member state\\n\\nA None\\n\\nIndonesia has five autonomous provinces, Aceh, Jakarta, Papua, West Papua, and Yogyakarta.[f]\\n',\n",
       " '\\n\\xa0Iran\\xa0– Islamic Republic of Iran\\n\\nA UN member state\\n\\nA None\\n\\n\\n',\n",
       " '\\n\\xa0Iraq\\xa0– Republic of Iraq\\n\\nA UN member state\\n\\nA None\\n\\nIraq is a federation[o][23] of 19 governorates, four of which make up the autonomous Kurdistan Region.[f]\\n',\n",
       " '\\n\\xa0Ireland[z]\\n\\nA UN member state\\n\\nA None\\n\\nMember of the EU.[c]\\n',\n",
       " '\\n\\xa0Israel\\xa0– State of Israel\\n\\nA UN member state\\n\\nPartially unrecognised\\n\\nIsrael exerts strong control over the territory claimed by Palestine. Israel annexed East Jerusalem,[25] an annexation not recognised by the international community.[26] Israel maintains varying levels of control over the rest of the West Bank, and although Israel no longer has a permanent civilian or military presence in the Gaza Strip, following its unilateral disengagement, it is still considered by some to be the occupying power under international law.[27][28][29][30][31]\\nIsrael is not recognised as a state by 28 UN members and the Sahrawi Arab Democratic Republic. The Palestine Liberation Organization, which enjoys recognition by a majority of UN member states as the sole representative of the Palestinian people, also does not recognise Israel.\\n\\n',\n",
       " '\\n\\xa0Italy\\xa0– Italian Republic\\n\\nA UN member state\\n\\nA None\\n\\nMember of the EU.[c] Italy has 5 autonomous regions, Aosta Valley, Friuli-Venezia Giulia, Sardinia, Sicily and Trentino-Alto Adige/Südtirol.[f]\\n',\n",
       " \"\\n\\xa0Ivory Coast\\xa0– Republic of Côte d'Ivoire[aa]\\n\\nA UN member state\\n\\nA None\\n\\n\\n\",\n",
       " '\\n\\xa0Jamaica\\n\\nA UN member state\\n\\nA None\\n\\nJamaica is a Commonwealth realm.[e]\\n',\n",
       " '\\n\\xa0Japan\\n\\nA UN member state\\n\\nA None\\n\\n\\n',\n",
       " '\\n\\xa0Jordan\\xa0– Hashemite Kingdom of Jordan\\n\\nA UN member state\\n\\nA None\\n\\n\\n',\n",
       " '\\n\\xa0Kazakhstan\\xa0– Republic of Kazakhstan\\n\\nA UN member state\\n\\nA None\\n\\n\\n',\n",
       " '\\n\\xa0Kenya\\xa0– Republic of Kenya\\n\\nA UN member state\\n\\nA None\\n\\n\\n',\n",
       " '\\n\\xa0Kiribati\\xa0– Republic of Kiribati\\n\\nA UN member state\\n\\nA None\\n\\n\\n',\n",
       " \"\\n\\xa0Korea, North\\xa0– Democratic People's Republic of Korea\\n\\nA UN member state\\n\\nB Claimed by Georgia Claimed by North Korea Claimed by Serbia Claimed by Somalia Claimed by the People's Republic of China Claimed by the Republic of China Claimed by South Korea Claimed by Azerbaijan Claimed by the Republic of Cyprus Disputed by Israel Claimed by Mauritius Claimed by Morocco Claimed by Moldova Claimed by Mali Claimed by Spain Claimed by Argentina\\n\\nNorth Korea is not recognised by three UN members, France, Japan, and South Korea, the last of which claims to be the sole legitimate government of Korea.[32]\\n\",\n",
       " \"\\n\\xa0Korea, South\\xa0– Republic of Korea\\n\\nA UN member state\\n\\nB Claimed by Georgia Claimed by North Korea Claimed by Serbia Claimed by Somalia Claimed by the People's Republic of China Claimed by the Republic of China Claimed by South Korea Claimed by Azerbaijan Claimed by the Republic of Cyprus Disputed by Israel Claimed by Mauritius Claimed by Morocco Claimed by Moldova Claimed by Mali Claimed by Spain Claimed by Argentina\\n\\nSouth Korea has one autonomous region, Jejudo.[f][33]\\nSouth Korea is not recognised by North Korea, which claims to be the sole legitimate government of Korea.\\n\\n\",\n",
       " '\\nZZZKosovo → See Kosovo listing\\n',\n",
       " '\\n\\xa0Kuwait\\xa0– State of Kuwait\\n\\nA UN member state\\n\\nA None\\n\\n\\n',\n",
       " '\\n\\xa0Kyrgyzstan\\xa0– Kyrgyz Republic\\n\\nA UN member state\\n\\nA None\\n\\n\\n',\n",
       " \"\\n\\xa0Laos\\xa0– Lao People's Democratic Republic\\n\\nA UN member state\\n\\nA None\\n\\n\\n\",\n",
       " '\\n\\xa0Latvia\\xa0– Republic of Latvia\\n\\nA UN member state\\n\\nA None\\n\\nMember of the EU.[c]\\n',\n",
       " '\\n\\xa0Lebanon\\xa0– Lebanese Republic\\n\\nA UN member state\\n\\nA None\\n\\n\\n',\n",
       " '\\n\\xa0Lesotho\\xa0– Kingdom of Lesotho\\n\\nA UN member state\\n\\nA None\\n\\n\\n',\n",
       " '\\n\\xa0Liberia\\xa0– Republic of Liberia\\n\\nA UN member state\\n\\nA None\\n\\n\\n',\n",
       " '\\n\\xa0Libya\\xa0– State of Libya\\n\\nA UN member state\\n\\nA None\\n\\n\\n',\n",
       " '\\n\\xa0Liechtenstein\\xa0– Principality of Liechtenstein\\n\\nA UN member state\\n\\nA None\\n\\n\\n',\n",
       " '\\n\\xa0Lithuania\\xa0– Republic of Lithuania\\n\\nA UN member state\\n\\nA None\\n\\nMember of the EU.[c]\\n',\n",
       " '\\n\\xa0Luxembourg\\xa0– Grand Duchy of Luxembourg\\n\\nA UN member state\\n\\nA None\\n\\nMember of the EU.[c]\\n',\n",
       " '\\nZZZMacedonia → See North Macedonia listing\\n',\n",
       " '\\n\\xa0Madagascar\\xa0– Republic of Madagascar\\n\\nA UN member state\\n\\nA None\\n\\n\\n',\n",
       " '\\n\\xa0Malawi\\xa0– Republic of Malawi\\n\\nA UN member state\\n\\nA None\\n\\n\\n',\n",
       " '\\n\\xa0Malaysia\\n\\nA UN member state\\n\\nA None\\n\\nMalaysia is a federation of 13 states and three federal territories.\\n',\n",
       " '\\n\\xa0Maldives\\xa0– Republic of Maldives\\n\\nA UN member state\\n\\nA None\\n\\n\\n',\n",
       " '\\n\\xa0Mali\\xa0– Republic of Mali\\n\\nA UN member state\\n\\nA None\\n\\n\\n',\n",
       " '\\n\\xa0Malta\\xa0– Republic of Malta\\n\\nA UN member state\\n\\nA None\\n\\nMember of the EU.[c]\\n',\n",
       " '\\n\\xa0Marshall Islands\\xa0– Republic of the Marshall Islands\\n\\nA UN member state\\n\\nA None\\n\\nUnder Compact of Free Association with the United States.\\n',\n",
       " '\\n\\xa0Mauritania\\xa0– Islamic Republic of Mauritania\\n\\nA UN member state\\n\\nA None\\n\\n\\n',\n",
       " '\\n\\xa0Mauritius\\xa0– Republic of Mauritius\\n\\nA UN member state\\n\\nA None\\n\\nMauritius has an autonomous island, Rodrigues.[f]\\n',\n",
       " '\\n\\xa0Mexico\\xa0– United Mexican States\\n\\nA UN member state\\n\\nA None\\n\\nMexico is a federation of 31 states and one autonomous city.\\nThe Rebel Zapatista Autonomous Municipalities have de facto autonomy.\\n\\n',\n",
       " '\\n\\xa0Micronesia\\xa0– Federated States of Micronesia\\n\\nA UN member state\\n\\nA None\\n\\nUnder Compact of Free Association with the United States. The Federated States of Micronesia is a federation of four states.\\n',\n",
       " '\\n\\xa0Moldova\\xa0– Republic of Moldova\\n\\nA UN member state\\n\\nA None\\n\\nMoldova has the autonomous regions of Gagauzia and Transnistria autonomous territorial unit. The latter and a city Bender is under the de facto control of Transnistria.\\n',\n",
       " '\\n\\xa0Monaco\\xa0– Principality of Monaco\\n\\nA UN member state\\n\\nA None\\n\\n\\n',\n",
       " '\\n\\xa0Mongolia\\n\\nA UN member state\\n\\nA None\\n\\n\\n',\n",
       " '\\n\\xa0Montenegro\\n\\nA UN member state\\n\\nA None\\n\\n\\n',\n",
       " '\\n\\xa0Morocco\\xa0– Kingdom of Morocco\\n\\nA UN member state\\n\\nA None\\n\\nPart of the Moroccan-claimed Western Sahara is controlled by the partially recognised Sahrawi Arab Democratic Republic.\\n',\n",
       " '\\n\\xa0Mozambique\\xa0– Republic of Mozambique\\n\\nA UN member state\\n\\nA None\\n\\n\\n',\n",
       " '\\n\\xa0Myanmar\\xa0– Republic of the Union of Myanmar[ab]\\n\\nA UN member state\\n\\nA None\\n\\nWa State is a de facto autonomous state within Myanmar.\\n',\n",
       " '\\nZZZNagorno-Karabakh → See Artsakh listing\\n',\n",
       " '\\n\\xa0Namibia\\xa0– Republic of Namibia\\n\\nA UN member state\\n\\nA None\\n\\n\\n',\n",
       " '\\n\\xa0Nauru\\xa0– Republic of Nauru\\n\\nA UN member state\\n\\nA None\\n\\n\\n',\n",
       " '\\n\\xa0\\xa0\\xa0Nepal\\xa0– Federal Democratic Republic of Nepal\\n\\nA UN member state\\n\\nA None\\n\\nNepal is a federation composed of 7 provinces.\\n',\n",
       " '\\n\\xa0Netherlands – Kingdom of the Netherlands\\n\\nA UN member state\\n\\nA None\\n\\nMember of the EU.[c] The Kingdom of the Netherlands includes four areas with substantial autonomy:\\n\\xa0Aruba\\n\\xa0Curaçao\\n\\xa0Netherlands\\n\\xa0Sint Maarten\\nThe continental part of the Netherlands, Aruba, Curaçao, and Sint Maarten form the four constituent countries of the Kingdom. Three other overseas territories (Bonaire, Saba, and Sint Eustatius) are special municipalities of the continental Netherlands.[ac] The Kingdom of the Netherlands as a whole is a member of the EU, but EU law applies only to parts within Europe.\\n\\n',\n",
       " '\\n\\xa0New Zealand\\n\\nA UN member state\\n\\nA None\\n\\nNew Zealand is a Commonwealth realm,[e] and has one dependent territory and one claimed Antarctic dependent territory of:\\n\\xa0Tokelau\\n\\xa0Ross Dependency\\nThe New Zealand Government acts for the entire Realm of New Zealand in all international contexts, which has responsibilities for (but no rights of control over) two freely associated states:\\n\\n\\xa0Cook Islands\\n\\xa0Niue\\nThe Cook Islands and Niue have diplomatic relations with 49 and 18 UN members respectively.[34][35][36] They have full treaty-making capacity in the UN,[37] and are members of some UN specialized agencies.\\n\\n',\n",
       " '\\n\\xa0Nicaragua\\xa0– Republic of Nicaragua\\n\\nA UN member state\\n\\nA None\\n\\nNicaragua contains two autonomous regions, Atlántico Sur and Atlántico Norte.[f]\\n',\n",
       " '\\n\\xa0Niger\\xa0– Republic of Niger\\n\\nA UN member state\\n\\nA None\\n\\n\\n',\n",
       " '\\n\\xa0Nigeria\\xa0– Federal Republic of Nigeria\\n\\nA UN member state\\n\\nA None\\n\\nNigeria is a federation of 36 states and one federal territory.\\n',\n",
       " '\\nZZZNiue → See Niue listing\\n',\n",
       " '\\nZZZNorth Korea → See Korea, North listing\\n',\n",
       " '\\n\\xa0North Macedonia\\xa0– Republic of North Macedonia[ad]\\n\\nA UN member state\\n\\nA None\\n\\n\\n',\n",
       " '\\nZZZNorthern Cyprus → See Northern Cyprus listing\\n',\n",
       " '\\n\\xa0Norway\\xa0– Kingdom of Norway\\n\\nA UN member state\\n\\nA None\\n\\nNorway has two unincorporated areas in Europe:\\n\\xa0Svalbard is an integral part of Norway, but has a special status due to the Svalbard Treaty.\\n\\xa0Jan Mayen is an uninhabited island that is an integral part of Norway, although unincorporated.\\nNorway has one dependent territory and two claimed Antarctic dependent territories in the Southern Hemisphere:\\n\\n\\xa0Bouvet Island\\n\\xa0Peter I Island\\n\\xa0Queen Maud Land\\n',\n",
       " '\\n\\xa0Oman\\xa0– Sultanate of Oman\\n\\nA UN member state\\n\\nA None\\n\\n\\n',\n",
       " '\\n\\xa0Pakistan\\xa0– Islamic Republic of Pakistan\\n\\nA UN member state\\n\\nA None\\n\\nPakistan is a federation of four provinces and one capital territory. Pakistan exercises control over certain portions of Kashmir, but has not officially annexed any of it,[38][39] instead regarding it as a disputed territory.[40][41] The portions that it controls are divided into two territories, administered separately from Pakistan proper:\\n\\xa0Azad Kashmir\\n\\xa0Gilgit-Baltistan\\nAzad Kashmir describes itself as a \"self-governing state under Pakistani control\", while Gilgit-Baltistan is described in its governance order as a group of \"areas\" with self-government.[42][43][44] These territories are not usually regarded as sovereign, as they do not fulfil the criteria set out by the declarative theory of statehood (for example, their current laws do not allow them to engage independently in relations with other states). Several state functions of these territories (such as foreign affairs and defence) are performed by Pakistan.[43][45][46]\\n\\n',\n",
       " '\\n\\xa0Palau\\xa0– Republic of Palau\\n\\nA UN member state\\n\\nA None\\n\\nUnder Compact of Free Association with the United States.\\n',\n",
       " \"\\n\\xa0Palestine\\xa0– State of Palestine\\n\\nA UN observer state; member of 2 UN specialized agencies\\n\\nPartially unrecognised. B Claimed by Georgia Claimed by North Korea Claimed by Serbia Claimed by Somalia Claimed by the People's Republic of China Claimed by the Republic of China Claimed by South Korea Claimed by Azerbaijan Claimed by the Republic of Cyprus Disputed by Israel Claimed by Mauritius Claimed by Morocco Claimed by Moldova Claimed by Mali Claimed by Spain Claimed by Argentina\\n\\nThe State of Palestine, declared in 1988, is not recognised as a state by Israel but has received diplomatic recognition from 138 states.[47] The proclaimed state has no agreed territorial borders, or effective control over much of the territory that it proclaimed.[48] The Palestinian National Authority is an interim administrative body formed as a result of the Oslo Accords that exercises limited autonomous jurisdiction within the Palestinian territories. In foreign relations, Palestine is represented by the Palestine Liberation Organization.[49] The State of Palestine is a member state of UNESCO,[50] UNIDO and other international organizations.[51]\\n\",\n",
       " '\\n\\xa0Panama\\xa0– Republic of Panama\\n\\nA UN member state\\n\\nA None\\n\\n\\n',\n",
       " '\\n\\xa0Papua New Guinea\\xa0– Independent State of Papua New Guinea\\n\\nA UN member state\\n\\nA None\\n\\nPapua New Guinea is a Commonwealth realm[e] with one autonomous region, Bougainville.[f]\\n',\n",
       " '\\n\\xa0Paraguay\\xa0– Republic of Paraguay\\n\\nA UN member state\\n\\nA None\\n\\n\\n',\n",
       " '\\n\\xa0Peru\\xa0– Republic of Peru\\n\\nA UN member state\\n\\nA None\\n\\n\\n',\n",
       " '\\n\\xa0Philippines\\xa0– Republic of the Philippines\\n\\nA UN member state\\n\\nA None\\n\\nThe Philippines contains one autonomous region, Bangsamoro.[f]\\n',\n",
       " '\\n\\xa0Poland\\xa0– Republic of Poland\\n\\nA UN member state\\n\\nA None\\n\\nMember of the EU.[c]\\n',\n",
       " '\\n\\xa0Portugal\\xa0– Portuguese Republic\\n\\nA UN member state\\n\\nA None\\n\\nMember of the EU.[c] Portugal contains two autonomous regions, the Azores and Madeira.[f]\\n',\n",
       " '\\nZZZPridnestrovie → See Transnistria listing\\n',\n",
       " '\\n\\xa0Qatar\\xa0– State of Qatar\\n\\nA UN member state\\n\\nA None\\n\\n\\n',\n",
       " '\\nZZZRepublic of Korea → See Korea, South listing\\n',\n",
       " '\\nZZZRepublic of the Congo → See Congo, Republic of the listing\\n',\n",
       " '\\n\\xa0Romania\\n\\nA UN member state\\n\\nA None\\n\\nMember of the EU.[c]\\n',\n",
       " '\\n\\xa0Russia\\xa0– Russian Federation\\n\\nA UN member state\\n\\nA None\\n\\nRussia is a federation of 85\\xa0federal subjects (republics, oblasts, krais, autonomous okrugs, federal cities, and an autonomous oblast). Several of the federal subjects are ethnic republics.[f]\\n',\n",
       " '\\n\\xa0Rwanda\\xa0– Republic of Rwanda\\n\\nA UN member state\\n\\nA None\\n\\n\\n',\n",
       " '\\nZZZSahrawi Arab Democratic Republic → See Sahrawi Arab Democratic Republic listing\\n',\n",
       " '\\n\\xa0Saint Kitts and Nevis\\xa0– Federation of Saint Christopher and Nevis\\n\\nA UN member state\\n\\nA None\\n\\nSaint Kitts and Nevis is a Commonwealth realm[e] and is a federation[o] of two islands, St. Kitts and Nevis.\\n',\n",
       " '\\n\\xa0Saint Lucia\\n\\nA UN member state\\n\\nA None\\n\\nSaint Lucia is a Commonwealth realm.[e]\\n',\n",
       " '\\n\\xa0Saint Vincent and the Grenadines\\n\\nA UN member state\\n\\nA None\\n\\nSaint Vincent and the Grenadines is a Commonwealth realm.[e]\\n',\n",
       " '\\n\\xa0Samoa\\xa0– Independent State of Samoa\\n\\nA UN member state\\n\\nA None\\n\\n\\n',\n",
       " '\\n\\xa0San Marino\\xa0– Republic of San Marino\\n\\nA UN member state\\n\\nA None\\n\\n\\n',\n",
       " '\\n\\xa0São Tomé and Príncipe\\xa0– Democratic Republic of São Tomé and Príncipe\\n\\nA UN member state\\n\\nA None\\n\\nSão Tomé and Príncipe contains one autonomous province, Príncipe.[f]\\n',\n",
       " '\\n\\xa0Saudi Arabia\\xa0– Kingdom of Saudi Arabia\\n\\nA UN member state\\n\\nA None\\n\\n\\n',\n",
       " '\\n\\xa0Senegal\\xa0– Republic of Senegal\\n\\nA UN member state\\n\\nA None\\n\\n\\n',\n",
       " '\\n\\xa0Serbia\\xa0– Republic of Serbia\\n\\nA UN member state\\n\\nA None\\n\\nSerbia contains two autonomous regions, Vojvodina and Kosovo and Metohija.[f] The latter is under the de facto control of Kosovo.\\n',\n",
       " '\\n\\xa0Seychelles\\xa0– Republic of Seychelles\\n\\nA UN member state\\n\\nA None\\n\\n\\n',\n",
       " '\\n\\xa0Sierra Leone\\xa0– Republic of Sierra Leone\\n\\nA UN member state\\n\\nA None\\n\\n\\n',\n",
       " '\\n\\xa0Singapore\\xa0– Republic of Singapore\\n\\nA UN member state\\n\\nA None\\n\\n\\n',\n",
       " '\\n\\xa0Slovakia\\xa0– Slovak Republic\\n\\nA UN member state\\n\\nA None\\n\\nMember of the EU.[c]\\n',\n",
       " '\\n\\xa0Slovenia\\xa0– Republic of Slovenia\\n\\nA UN member state\\n\\nA None\\n\\nMember of the EU.[c]\\n',\n",
       " '\\n\\xa0Solomon Islands\\n\\nA UN member state\\n\\nA None\\n\\nSolomon Islands is a Commonwealth realm.[e]\\n',\n",
       " '\\n\\xa0Somalia\\xa0– Federal Republic of Somalia\\n\\nA UN member state\\n\\nA None\\n\\nSomalia is a federation of six states. Two, Puntland and Galmudug, have self-declared autonomy, while one, Somaliland, is de facto independent.\\n',\n",
       " '\\nZZZSomaliland → See Somaliland listing\\n',\n",
       " '\\n\\xa0South Africa\\xa0– Republic of South Africa\\n\\nA UN member state\\n\\nA None\\n\\n\\n',\n",
       " '\\nZZZSouth Korea → See Korea, South listing\\n',\n",
       " '\\nZZZSouth Ossetia → See South Ossetia listing\\n',\n",
       " '\\n\\xa0South Sudan\\xa0– Republic of South Sudan\\n\\nA UN member state\\n\\nA None\\n\\nSouth Sudan is a federation of 10 states and three administrative areas.\\nThe Abyei Area is a zone with \"special administrative status\" established by the Comprehensive Peace Agreement in 2005. It is de jure a condominium of South Sudan and Sudan, but de facto administered by two competing administrations and the United Nations.[52][53]\\n',\n",
       " '\\n\\xa0Spain\\xa0– Kingdom of Spain\\n\\nA UN member state\\n\\nA None\\n\\nMember of the EU.[c] Spain is divided into 17 autonomous communities and two special autonomous cities.[f][ae]\\n',\n",
       " '\\n\\xa0Sri Lanka\\xa0– Democratic Socialist Republic of Sri Lanka[af]\\n\\nA UN member state\\n\\nA None\\n\\n\\n',\n",
       " '\\n\\xa0Sudan\\xa0– Republic of the Sudan\\n\\nA UN member state\\n\\nA None\\n\\nSudan is a federation of 18 states.\\nThe Abyei Area is a zone with \"special administrative status\" established by the Comprehensive Peace Agreement in 2005. It is de jure a condominium of South Sudan and Sudan, but de facto administered by two competing administrations and the United Nations.[52][53]\\n',\n",
       " '\\nZZZSudan, South → See South Sudan listing\\n',\n",
       " '\\n\\xa0Suriname\\xa0– Republic of Suriname\\n\\nA UN member state\\n\\nA None\\n\\n\\n',\n",
       " '\\nZZZSwaziland → See Eswatini listing\\n',\n",
       " '\\n\\xa0Sweden\\xa0– Kingdom of Sweden\\n\\nA UN member state\\n\\nA None\\n\\nMember of the EU.[c]\\n',\n",
       " '\\n\\xa0\\xa0Switzerland\\xa0– Swiss Confederation\\n\\nA UN member state\\n\\nA None\\n\\nSwitzerland is a federation of 26 cantons.\\n',\n",
       " '\\n\\xa0Syria\\xa0– Syrian Arab Republic\\n\\nA UN member state\\n\\nA None\\n\\nThe Syrian National Coalition, which is recognised as the legitimate representative of the Syrian people by 20 UN members, has established an interim government to rule rebel controlled territory during the Syrian civil war.\\nSyria has one self-declared autonomous region: Rojava.\\n\\n',\n",
       " '\\nZZZTaiwan (Republic of China) → See Taiwan listing\\n',\n",
       " '\\n\\xa0Tajikistan\\xa0– Republic of Tajikistan\\n\\nA UN member state\\n\\nA None\\n\\nTajikistan contains one autonomous region, Gorno-Badakhshan Autonomous Province.[f]\\n',\n",
       " '\\n\\xa0Tanzania\\xa0– United Republic of Tanzania\\n\\nA UN member state\\n\\nA None\\n\\nTanzania contains one autonomous region, Zanzibar.[f]\\n',\n",
       " '\\n\\xa0Thailand\\xa0– Kingdom of Thailand\\n\\nA UN member state\\n\\nA None\\n\\n\\n',\n",
       " '\\nZZZThe Bahamas → See Bahamas, The listing\\n',\n",
       " '\\nZZZThe Gambia → See Gambia, The listing\\n',\n",
       " '\\nZZZTimor-Leste → See East Timor listing\\n',\n",
       " '\\n\\xa0Togo\\xa0– Togolese Republic\\n\\nA UN member state\\n\\nA None\\n\\n\\n',\n",
       " '\\n\\xa0Tonga\\xa0– Kingdom of Tonga\\n\\nA UN member state\\n\\nA None\\n\\n\\n',\n",
       " '\\nZZZTransnistria → See Transnistria listing\\n',\n",
       " '\\n\\xa0Trinidad and Tobago\\xa0– Republic of Trinidad and Tobago\\n\\nA UN member state\\n\\nA None\\n\\nTrinidad and Tobago contains one autonomous region, Tobago.[f]\\n',\n",
       " '\\n\\xa0Tunisia\\xa0– Republic of Tunisia\\n\\nA UN member state\\n\\nA None\\n\\n\\n',\n",
       " '\\n\\xa0Turkey\\xa0– Republic of Turkey\\n\\nA UN member state\\n\\nA None\\n\\n\\n',\n",
       " '\\n\\xa0Turkmenistan\\xa0- Republic of Turkmenistan\\n\\nA UN member state\\n\\nA None\\n\\n\\n',\n",
       " '\\n\\xa0Tuvalu\\n\\nA UN member state\\n\\nA None\\n\\nTuvalu is a Commonwealth realm.[e]\\n',\n",
       " '\\n\\xa0Uganda\\xa0– Republic of Uganda\\n\\nA UN member state\\n\\nA None\\n\\n\\n',\n",
       " '\\n\\xa0Ukraine\\n\\nA UN member state\\n\\nA None\\n\\nUkraine contains one autonomous region, the Autonomous Republic of Crimea,[f] which is under the de facto control of Russia, along with neighbouring Sevastopol.\\n',\n",
       " '\\n\\xa0United Arab Emirates\\n\\nA UN member state\\n\\nA None\\n\\nThe United Arab Emirates is a federation of seven emirates.\\n',\n",
       " '\\n\\xa0United Kingdom\\xa0– United Kingdom of Great Britain and Northern Ireland\\n\\nA UN member state\\n\\nA None\\n\\nThe United Kingdom is a Commonwealth realm[e] consisting of four constituent countries; England, Northern Ireland, Scotland, and Wales. The United Kingdom has the following 13 overseas territories and one claimed Antarctic dependent territory:\\n\\xa0Akrotiri and Dhekelia\\n\\xa0Anguilla\\n\\xa0Bermuda\\n\\xa0British Indian Ocean Territory\\n\\xa0British Virgin Islands\\n\\xa0Cayman Islands\\n\\xa0Falkland Islands\\n\\xa0Gibraltar\\n\\xa0Montserrat\\n\\xa0Pitcairn Islands\\n\\xa0Saint Helena, Ascension and Tristan da Cunha\\n\\xa0South Georgia and the South Sandwich Islands\\n\\xa0Turks and Caicos Islands\\n\\xa0British Antarctic Territory\\nThe British monarch also has direct sovereignty over three self-governing Crown dependencies:\\n\\n\\xa0Guernsey\\n\\xa0Isle of Man\\n\\xa0Jersey\\n',\n",
       " '\\n\\xa0United States\\xa0– United States of America\\n\\nA UN member state\\n\\nA None\\n\\nThe United States is a federation of 50 states, one federal district, and one incorporated territory. Additionally, the Federal government of the United States has sovereignty over 13 unincorporated territories. Of these territories, the following five are inhabited possessions:\\n\\xa0American Samoa\\n\\xa0Guam\\n\\xa0Northern Mariana Islands\\n\\xa0Puerto Rico\\n\\xa0U.S. Virgin Islands\\nIt also has sovereignty over several uninhabited territories:\\n\\n\\xa0Baker Island\\n\\xa0Howland Island\\n\\xa0Jarvis Island\\n\\xa0Johnston Atoll\\n\\xa0Kingman Reef\\n\\xa0Midway Atoll\\n\\xa0Navassa Island\\n\\xa0Wake Island\\nIt also disputes sovereignty over the following two territories:\\n\\n\\xa0Bajo Nuevo Bank\\n\\xa0Serranilla Bank\\nThree sovereign states have become associated states of the United States under the Compact of Free Association:\\n\\n\\xa0Marshall Islands – Republic of the Marshall Islands\\n\\xa0Micronesia – Federated States of Micronesia\\n\\xa0Palau – Republic of Palau\\n',\n",
       " '\\n\\xa0Uruguay\\xa0– Oriental Republic of Uruguay\\n\\nA UN member state\\n\\nA None\\n\\n\\n',\n",
       " '\\n\\xa0Uzbekistan\\xa0– Republic of Uzbekistan\\n\\nA UN member state\\n\\nA None\\n\\nUzbekistan contains one autonomous region, Karakalpakstan.[f]\\n',\n",
       " '\\n\\xa0Vanuatu\\xa0– Republic of Vanuatu\\n\\nA UN member state\\n\\nA None\\n\\n\\n',\n",
       " '\\n\\xa0\\xa0Vatican City\\xa0– Vatican City State\\n\\nA UN observer state under the designation of \"Holy See\"; member of three UN specialized agencies and the IAEA\\n\\nA None\\n\\nAdministered by the Holy See, a sovereign entity with diplomatic relations to 183\\xa0states. This figure consists of 180 UN member states, the Cook Islands, the Republic of China (Taiwan), and the State of Palestine.[54] In addition, the European Union and the Sovereign Military Order of Malta maintain diplomatic relations with the Holy See. The Holy See is a member of the IAEA, ITU, UPU, and WIPO and a permanent observer of the UN (in the category of \"Non-member State\")[49] and multiple other UN System organizations. The Vatican City is governed by officials appointed by the Pope, who is the Bishop of the Diocese of Rome and ex officio sovereign of Vatican City.\\n',\n",
       " '\\n\\xa0Venezuela\\xa0– Bolivarian Republic of Venezuela\\n\\nA UN member state\\n\\nA None\\n\\nVenezuela is a federation of 23 states, one capital district, and federal dependencies.\\n',\n",
       " '\\n\\xa0Vietnam\\xa0– Socialist Republic of Vietnam\\n\\nA UN member state\\n\\nA None\\n\\n\\n',\n",
       " '\\n\\xa0Yemen\\xa0– Republic of Yemen\\n\\nA UN member state\\n\\nA None\\n\\n\\n',\n",
       " '\\n\\xa0Zambia\\xa0– Republic of Zambia\\n\\nA UN member state\\n\\nA None\\n\\n\\n',\n",
       " '\\n\\xa0Zimbabwe\\xa0– Republic of Zimbabwe\\n\\nA UN member state\\n\\nA None\\n\\n\\n',\n",
       " '\\nZZZ↑ UN member states and observer states ↑\\n\\nA ZZZ\\n\\nZZZ\\n\\n\\n',\n",
       " '\\nZZZ\\n\\nAB\\n\\nB\\n\\n\\n',\n",
       " '\\nZZZ↓ Other states ↓\\n\\nD AAA\\n\\nZZZ\\n\\n\\n',\n",
       " \"\\n\\xa0Abkhazia\\xa0– Republic of Abkhazia\\n\\nD No membership\\n\\nB Claimed by Georgia Claimed by North Korea Claimed by Serbia Claimed by Somalia Claimed by the People's Republic of China Claimed by the Republic of China Claimed by South Korea Claimed by Azerbaijan Claimed by the Republic of Cyprus Disputed by Israel Claimed by Mauritius Claimed by Morocco Claimed by Moldova Claimed by Mali Claimed by Spain Claimed by Argentina\\n\\nRecognised by Russia, Nauru, Nicaragua, Syria, Venezuela, Artsakh, South Ossetia and Transnistria.[55] Claimed in whole by Georgia as the Autonomous Republic of Abkhazia.\\n\",\n",
       " \"\\n\\xa0Artsakh\\xa0– Republic of Artsakh[ag]\\n\\nD No membership\\n\\nB Claimed by Georgia Claimed by North Korea Claimed by Serbia Claimed by Somalia Claimed by the People's Republic of China Claimed by the Republic of China Claimed by South Korea Claimed by Azerbaijan Claimed by the Republic of Cyprus Disputed by Israel Claimed by Mauritius Claimed by Morocco Claimed by Moldova Claimed by Mali Claimed by Spain Claimed by Argentina\\n\\nA de facto independent state,[56][57][58] recognised only by Abkhazia,[59] South Ossetia[59] and Transnistria.[59][60] Claimed in whole by Azerbaijan.[61]\\n\",\n",
       " '\\n\\xa0Cook Islands\\n\\nD Member of eight UN specialized agencies\\n\\nA None(See political status)\\n\\nA state in free association with New Zealand, the Cook Islands maintains diplomatic relations with\\xa052\\xa0states. The Cook Islands is a member of multiple UN agencies with full treaty making capacity.[37] It shares a head of state with New Zealand as well as having shared citizenship.\\n',\n",
       " \"\\n\\xa0Kosovo\\xa0– Republic of Kosovo\\n\\nD Member of two UN specialized agencies\\n\\nB Claimed by Georgia Claimed by North Korea Claimed by Serbia Claimed by Somalia Claimed by the People's Republic of China Claimed by the Republic of China Claimed by South Korea Claimed by Azerbaijan Claimed by the Republic of Cyprus Disputed by Israel Claimed by Mauritius Claimed by Morocco Claimed by Moldova Claimed by Mali Claimed by Spain Claimed by Argentina\\n\\nPursuant to United Nations Security Council Resolution 1244, Kosovo was placed under the administration of the United Nations Interim Administration Mission in Kosovo in 1999.[62] Kosovo declared independence in 2008, and it has received diplomatic recognition from\\xa0113\\xa0UN member states and the Republic of China, while 18 states have recognized Kosovo only to later withdraw their recognition.[63] Serbia continues to maintain its sovereignty claim over Kosovo. Other UN member states and non UN member states continue to recognise Serbian sovereignty or have taken no position on the question. Kosovo is a member of the International Monetary Fund and the World Bank Group. The Republic of Kosovo has de facto control over most of the territory, with limited control in North Kosovo.\\n\",\n",
       " '\\n\\xa0Niue\\n\\nD Member of five UN specialized agencies\\n\\nA None(See political status)\\n\\nA state in free association with New Zealand, Niue maintains diplomatic relations with\\xa020\\xa0states. Niue is a member of multiple UN agencies with full treaty making capacity.[37] It shares a head of state with New Zealand as well as having shared citizenship.\\n',\n",
       " '\\n\\xa0Northern Cyprus\\xa0– Turkish Republic of Northern Cyprus\\n\\nD No membership\\n\\nB Claimed by Georgia Claimed by North Korea Claimed by Serbia Claimed by Somalia Claimed by the People\\'s Republic of China Claimed by the Republic of China Claimed by South Korea Claimed by Azerbaijan Claimed by the Republic of Cyprus Disputed by Israel Claimed by Mauritius Claimed by Morocco Claimed by Moldova Claimed by Mali Claimed by Spain Claimed by Argentina\\n\\nRecognised only by Turkey. Under the name \"Turkish Cypriot State\", it is an observer state of the Organisation of Islamic Cooperation and the Economic Cooperation Organization. Northern Cyprus is claimed in whole by the Republic of Cyprus.[64]\\n',\n",
       " \"\\n\\xa0Sahrawi Arab Democratic Republic\\n\\nD No membership\\n\\nB Claimed by Georgia Claimed by North Korea Claimed by Serbia Claimed by Somalia Claimed by the People's Republic of China Claimed by the Republic of China Claimed by South Korea Claimed by Azerbaijan Claimed by the Republic of Cyprus Disputed by Israel Claimed by Mauritius Claimed by Morocco Claimed by Moldova Claimed by Mali Claimed by Spain Claimed by Argentina\\n\\nRecognised at some stage by 84\\xa0UN member states, 45 of which have since withdrawn or frozen their recognition. It is a founding member of the African Union and the Asian–African Strategic Partnership formed at the 2005 Asian–African Conference. The territories under its control, the so-called Free Zone, are claimed in whole by Morocco as part of its Southern Provinces. In turn, the Sahrawi Arab Democratic Republic claims the part of Western Sahara to the west of the Moroccan Wall controlled by Morocco. Its government resides in exile in Tindouf, Algeria.\\n\",\n",
       " \"\\n\\xa0Somaliland\\xa0– Republic of Somaliland\\n\\nD No membership\\n\\nB Claimed by Georgia Claimed by North Korea Claimed by Serbia Claimed by Somalia Claimed by the People's Republic of China Claimed by the Republic of China Claimed by South Korea Claimed by Azerbaijan Claimed by the Republic of Cyprus Disputed by Israel Claimed by Mauritius Claimed by Morocco Claimed by Moldova Claimed by Mali Claimed by Spain Claimed by Argentina\\n\\nA de facto independent state,[56][65][66][67][68] not diplomatically recognised by any other state, claimed in whole by the Federal Republic of Somalia.[69]\\n\",\n",
       " \"\\n\\xa0South Ossetia\\xa0– Republic of South Ossetia–the State of Alania\\n\\nD No membership\\n\\nB Claimed by Georgia Claimed by North Korea Claimed by Serbia Claimed by Somalia Claimed by the People's Republic of China Claimed by the Republic of China Claimed by South Korea Claimed by Azerbaijan Claimed by the Republic of Cyprus Disputed by Israel Claimed by Mauritius Claimed by Morocco Claimed by Moldova Claimed by Mali Claimed by Spain Claimed by Argentina\\n\\nA de facto independent state,[70] recognised by Russia, Nicaragua, Nauru, Syria, Venezuela, Abkhazia, Artsakh and Transnistria. Claimed in whole by Georgia as the Provisional Administrative Entity of South Ossetia.[71]\\n\",\n",
       " '\\n\\xa0Taiwan\\xa0– Republic of China[l]\\n\\nD Former UN member and former permanent UN Security Council member (as Republic of China, 1945–1971)Observer in one UN specialized agency under the name \"Chinese Taipei\"\\n\\nB Claimed by Georgia Claimed by North Korea Claimed by Serbia Claimed by Somalia Claimed by the People\\'s Republic of China Claimed by the Republic of China Claimed by South Korea Claimed by Azerbaijan Claimed by the Republic of Cyprus Disputed by Israel Claimed by Mauritius Claimed by Morocco Claimed by Moldova Claimed by Mali Claimed by Spain Claimed by Argentina\\n\\nA state competing (nominally) for recognition with the People\\'s Republic of China (PRC) as the government of China since 1949. The Republic of China (ROC) controls the island of Taiwan and associated islands, Quemoy, Matsu, the Pratas and parts of the Spratly Islands, and has not renounced claims over its annexed territories on the mainland.[72] The ROC is recognised by 14 UN member states and the Holy See as of 20 September 2019, none of which recognise the PRC. Additionally, one UN member (Bhutan) has refrained from recognising either the ROC or the PRC.\\nThe territory of the ROC is claimed in whole by the PRC.[m] The ROC participates in international organizations under a variety of pseudonyms, most commonly \"Chinese Taipei\" and in the WTO it has full membership. The ROC was a founding member of the UN and enjoyed membership from 1945 to 1971, with veto power in the UN Security Council. See China and the United Nations.\\n\\n',\n",
       " \"\\n\\xa0Transnistria\\xa0– Pridnestrovian Moldavian Republic\\n\\nD No membership\\n\\nB Claimed by Georgia Claimed by North Korea Claimed by Serbia Claimed by Somalia Claimed by the People's Republic of China Claimed by the Republic of China Claimed by South Korea Claimed by Azerbaijan Claimed by the Republic of Cyprus Disputed by Israel Claimed by Mauritius Claimed by Morocco Claimed by Moldova Claimed by Mali Claimed by Spain Claimed by Argentina\\n\\nA de facto independent state,[56] recognised only by Abkhazia, Artsakh and South Ossetia.[55] Claimed in whole by Moldova.[73]\\n\",\n",
       " '\\nZZZ↑ Other states ↑\\n\\nD ZZZ\\n\\nZZZ\\n\\n\\n',\n",
       " '\\nZZZZ\\n\\nZZZZ\\n\\nZZZZ\\n\\n\\n']"
      ]
     },
     "execution_count": 10,
     "metadata": {},
     "output_type": "execute_result"
    }
   ],
   "source": [
    "# loop through all the rows and extract only the text\n",
    "text =[]\n",
    "for tr in trs:\n",
    "    text.append(tr.text)\n",
    "text"
   ]
  },
  {
   "cell_type": "code",
   "execution_count": 6,
   "metadata": {},
   "outputs": [],
   "source": [
    "# separate the first table from the second with list indexing"
   ]
  },
  {
   "cell_type": "code",
   "execution_count": 7,
   "metadata": {},
   "outputs": [],
   "source": [
    "# check the first couple of entries"
   ]
  },
  {
   "cell_type": "code",
   "execution_count": 8,
   "metadata": {},
   "outputs": [],
   "source": [
    "# separate the second table from the first with list indexing"
   ]
  },
  {
   "cell_type": "code",
   "execution_count": 9,
   "metadata": {},
   "outputs": [],
   "source": [
    "# check the first couple of entries"
   ]
  },
  {
   "cell_type": "markdown",
   "metadata": {},
   "source": [
    "## 3. Explore further the contents of each table\n",
    "### a. States (table 1)\n",
    "![image](../answers/assets/sovereign-states-tr.png)"
   ]
  },
  {
   "cell_type": "code",
   "execution_count": 10,
   "metadata": {},
   "outputs": [],
   "source": [
    "# now separate the list based on the information we found from the data frames above and gather the nested tags from each td tag\n",
    "# we also don't want rows where there is a td of colspan 4"
   ]
  },
  {
   "cell_type": "markdown",
   "metadata": {},
   "source": [
    "This is the same information as the image above except in a BeautifulSoup object and not html. Identify what information might be useful apart from the text within each td tag.\n",
    "\n",
    "- \n",
    "- \n",
    "- "
   ]
  },
  {
   "cell_type": "markdown",
   "metadata": {},
   "source": [
    "Find those attributes in a single row using one row to help"
   ]
  },
  {
   "cell_type": "code",
   "execution_count": 11,
   "metadata": {},
   "outputs": [],
   "source": [
    "# assign a list item to a variable (i.e. country_name = list[index])"
   ]
  },
  {
   "cell_type": "code",
   "execution_count": 13,
   "metadata": {},
   "outputs": [],
   "source": [
    "# check the results"
   ]
  },
  {
   "cell_type": "code",
   "execution_count": 14,
   "metadata": {},
   "outputs": [],
   "source": [
    "# find attribute 1"
   ]
  },
  {
   "cell_type": "code",
   "execution_count": 15,
   "metadata": {},
   "outputs": [],
   "source": [
    "# find attribute 2"
   ]
  },
  {
   "cell_type": "code",
   "execution_count": 16,
   "metadata": {},
   "outputs": [],
   "source": [
    "# find attribute 3"
   ]
  },
  {
   "cell_type": "markdown",
   "metadata": {},
   "source": [
    "### b. Other states"
   ]
  },
  {
   "cell_type": "markdown",
   "metadata": {},
   "source": [
    "### a. Other states (table 2)\n",
    "![image](../answers/assets/sovereign-states-other-tr-1.png)\n",
    "![image](../answers/assets/sovereign-states-other-tr-2.png)"
   ]
  },
  {
   "cell_type": "code",
   "execution_count": 17,
   "metadata": {},
   "outputs": [],
   "source": [
    "# create a list of lists of td tags for the second table"
   ]
  },
  {
   "cell_type": "markdown",
   "metadata": {},
   "source": [
    "This is the same information as the image above except in a BeautifulSoup object and not html. Identify what information might be useful apart from the text within each td tag.\n",
    "\n",
    "- \n",
    "- \n",
    "- "
   ]
  },
  {
   "cell_type": "markdown",
   "metadata": {},
   "source": [
    "Find those attributes in a single row "
   ]
  },
  {
   "cell_type": "code",
   "execution_count": 18,
   "metadata": {},
   "outputs": [],
   "source": [
    "# (i.e. abkhazia = list[index])"
   ]
  },
  {
   "cell_type": "code",
   "execution_count": 20,
   "metadata": {},
   "outputs": [],
   "source": [
    "# check the results"
   ]
  },
  {
   "cell_type": "code",
   "execution_count": 21,
   "metadata": {},
   "outputs": [],
   "source": [
    "# find attribute 1"
   ]
  },
  {
   "cell_type": "code",
   "execution_count": 22,
   "metadata": {},
   "outputs": [],
   "source": [
    "# find attribute 2"
   ]
  },
  {
   "cell_type": "code",
   "execution_count": 23,
   "metadata": {},
   "outputs": [],
   "source": [
    "# find attribute 3"
   ]
  },
  {
   "cell_type": "markdown",
   "metadata": {},
   "source": [
    "## 4. Extract the information from step 3 for each row\n",
    "Create a header row based on the new columns created\n",
    "### a. States"
   ]
  },
  {
   "cell_type": "code",
   "execution_count": 269,
   "metadata": {},
   "outputs": [],
   "source": [
    "# apply to all rows the BeautifulSoup queries written for one row in 3a\n",
    "# for each row in a list of trs\n",
    "#     for each td in a list oftds"
   ]
  },
  {
   "cell_type": "code",
   "execution_count": 24,
   "metadata": {},
   "outputs": [],
   "source": [
    "# create a dataframe from the list created above"
   ]
  },
  {
   "cell_type": "code",
   "execution_count": 26,
   "metadata": {},
   "outputs": [],
   "source": [
    "# rename the columns for the new dataframe"
   ]
  },
  {
   "cell_type": "code",
   "execution_count": 27,
   "metadata": {},
   "outputs": [],
   "source": [
    "# check the results"
   ]
  },
  {
   "cell_type": "markdown",
   "metadata": {},
   "source": [
    "### b. Other states"
   ]
  },
  {
   "cell_type": "code",
   "execution_count": 269,
   "metadata": {},
   "outputs": [],
   "source": [
    "# apply to all rows the BeautifulSoup queries written for one row in 3a\n",
    "# for each row in a list of trs\n",
    "#     for each td in a list oftds"
   ]
  },
  {
   "cell_type": "code",
   "execution_count": 24,
   "metadata": {},
   "outputs": [],
   "source": [
    "# create a dataframe from the list created above"
   ]
  },
  {
   "cell_type": "code",
   "execution_count": 26,
   "metadata": {},
   "outputs": [],
   "source": [
    "# rename the columns for the new dataframe"
   ]
  },
  {
   "cell_type": "code",
   "execution_count": 27,
   "metadata": {},
   "outputs": [],
   "source": [
    "# check the results"
   ]
  },
  {
   "cell_type": "code",
   "execution_count": null,
   "metadata": {},
   "outputs": [],
   "source": []
  }
 ],
 "metadata": {
  "kernelspec": {
   "display_name": "Python 3",
   "language": "python",
   "name": "python3"
  },
  "language_info": {
   "codemirror_mode": {
    "name": "ipython",
    "version": 3
   },
   "file_extension": ".py",
   "mimetype": "text/x-python",
   "name": "python",
   "nbconvert_exporter": "python",
   "pygments_lexer": "ipython3",
   "version": "3.8.3"
  }
 },
 "nbformat": 4,
 "nbformat_minor": 5
}
